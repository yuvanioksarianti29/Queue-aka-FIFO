{
  "nbformat": 4,
  "nbformat_minor": 0,
  "metadata": {
    "colab": {
      "name": "3.2.1.15 Queue aka FIFO.ipynb",
      "provenance": [],
      "collapsed_sections": []
    },
    "kernelspec": {
      "name": "python3",
      "display_name": "Python 3"
    },
    "language_info": {
      "name": "python"
    }
  },
  "cells": [
    {
      "cell_type": "markdown",
      "source": [
        "# **3.2.1.15 Queue aka FIFO**"
      ],
      "metadata": {
        "id": "xCuRzcTMGniC"
      }
    },
    {
      "cell_type": "code",
      "execution_count": 1,
      "metadata": {
        "colab": {
          "base_uri": "https://localhost:8080/"
        },
        "id": "0-Pe03bGGL_b",
        "outputId": "8c71e41a-a731-482f-f24b-e8c099274a5e"
      },
      "outputs": [
        {
          "output_type": "stream",
          "name": "stdout",
          "text": [
            "1\n",
            "dog\n",
            "False\n",
            "Queue error\n"
          ]
        }
      ],
      "source": [
        "class QueueError(IndexError):  # Choose base class for the new exception.\n",
        "    pass\n",
        "\n",
        "\n",
        "class Queue:\n",
        "    def __init__(self):\n",
        "        self.queue = []\n",
        "\n",
        "    def put(self, elem):\n",
        "        self.queue.insert(0, elem)\n",
        "\n",
        "    def get(self):\n",
        "        if len(self.queue)>0 :\n",
        "            elem = self.queue[-1]\n",
        "            del self.queue[-1]\n",
        "            return elem\n",
        "        else :\n",
        "            raise QueueError\n",
        "\n",
        "\n",
        "que = Queue()\n",
        "que.put(1)\n",
        "que.put(\"dog\")\n",
        "que.put(False)\n",
        "try:\n",
        "    for i in range(4):\n",
        "        print(que.get())\n",
        "except:\n",
        "    print(\"Queue error\")\n"
      ]
    }
  ]
}